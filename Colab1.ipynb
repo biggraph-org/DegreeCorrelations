{
  "nbformat": 4,
  "nbformat_minor": 0,
  "metadata": {
    "colab": {
      "provenance": []
    },
    "kernelspec": {
      "name": "python3",
      "display_name": "Python 3"
    }
  },
  "cells": [
    {
      "cell_type": "markdown",
      "source": [
        "<br/>\n",
        "<center>\n",
        "<img src=\"https://www.etu.edu.tr/files/logolar/standart_logo/yatay/en/tobb_etu_yatay_en.png\"\n",
        "width=\"500\" height=\"150\"/>\n",
        "</center>\n",
        "<br/>\n",
        "\n"
      ],
      "metadata": {
        "id": "pSNBthpIPX0O"
      }
    },
    {
      "cell_type": "markdown",
      "metadata": {
        "id": "kPt5q27L5557"
      },
      "source": [
        "# BIL401/501 - Colab 1"
      ]
    },
    {
      "cell_type": "markdown",
      "source": [
        "Cheating will result in zero grade, whereas disciplinary actions may also be taken. Late submissions are not allowed. Our purpose is to introduce you to **SPARK**. Try to enjoy it."
      ],
      "metadata": {
        "id": "YBfCHYt-oyqv"
      }
    },
    {
      "cell_type": "markdown",
      "metadata": {
        "id": "p0-YhEpP_Ds-"
      },
      "source": [
        "### Setup"
      ]
    },
    {
      "cell_type": "markdown",
      "metadata": {
        "id": "Zsj5WYpR9QId"
      },
      "source": [
        "Let's set up Spark on your Colab environment.  Run the cell below!"
      ]
    },
    {
      "cell_type": "code",
      "metadata": {
        "id": "k-qHai2252mI",
        "colab": {
          "base_uri": "https://localhost:8080/"
        },
        "outputId": "98ba201c-c6b8-4405-8d6c-92de9cd8cbdc"
      },
      "source": [
        "!pip install pyspark\n",
        "!pip install -U -q PyDrive\n",
        "!apt install openjdk-8-jdk-headless -qq\n",
        "import os\n",
        "os.environ[\"JAVA_HOME\"] = \"/usr/lib/jvm/java-8-openjdk-amd64\""
      ],
      "execution_count": null,
      "outputs": [
        {
          "output_type": "stream",
          "name": "stdout",
          "text": [
            "Looking in indexes: https://pypi.org/simple, https://us-python.pkg.dev/colab-wheels/public/simple/\n",
            "Collecting pyspark\n",
            "  Downloading pyspark-3.3.1.tar.gz (281.4 MB)\n",
            "\u001b[K     |████████████████████████████████| 281.4 MB 43 kB/s \n",
            "\u001b[?25hCollecting py4j==0.10.9.5\n",
            "  Downloading py4j-0.10.9.5-py2.py3-none-any.whl (199 kB)\n",
            "\u001b[K     |████████████████████████████████| 199 kB 51.3 MB/s \n",
            "\u001b[?25hBuilding wheels for collected packages: pyspark\n",
            "  Building wheel for pyspark (setup.py) ... \u001b[?25l\u001b[?25hdone\n",
            "  Created wheel for pyspark: filename=pyspark-3.3.1-py2.py3-none-any.whl size=281845513 sha256=ff22eee0ba13732a1c3a9d57fbe5139a1ece4ed4b33a477ffcd7a8d6dee1d36f\n",
            "  Stored in directory: /root/.cache/pip/wheels/42/59/f5/79a5bf931714dcd201b26025347785f087370a10a3329a899c\n",
            "Successfully built pyspark\n",
            "Installing collected packages: py4j, pyspark\n",
            "Successfully installed py4j-0.10.9.5 pyspark-3.3.1\n",
            "The following package was automatically installed and is no longer required:\n",
            "  libnvidia-common-460\n",
            "Use 'apt autoremove' to remove it.\n",
            "The following additional packages will be installed:\n",
            "  openjdk-8-jre-headless\n",
            "Suggested packages:\n",
            "  openjdk-8-demo openjdk-8-source libnss-mdns fonts-dejavu-extra\n",
            "  fonts-ipafont-gothic fonts-ipafont-mincho fonts-wqy-microhei\n",
            "  fonts-wqy-zenhei fonts-indic\n",
            "The following NEW packages will be installed:\n",
            "  openjdk-8-jdk-headless openjdk-8-jre-headless\n",
            "0 upgraded, 2 newly installed, 0 to remove and 4 not upgraded.\n",
            "Need to get 36.6 MB of archives.\n",
            "After this operation, 143 MB of additional disk space will be used.\n",
            "Selecting previously unselected package openjdk-8-jre-headless:amd64.\n",
            "(Reading database ... 123942 files and directories currently installed.)\n",
            "Preparing to unpack .../openjdk-8-jre-headless_8u342-b07-0ubuntu1~18.04_amd64.deb ...\n",
            "Unpacking openjdk-8-jre-headless:amd64 (8u342-b07-0ubuntu1~18.04) ...\n",
            "Selecting previously unselected package openjdk-8-jdk-headless:amd64.\n",
            "Preparing to unpack .../openjdk-8-jdk-headless_8u342-b07-0ubuntu1~18.04_amd64.deb ...\n",
            "Unpacking openjdk-8-jdk-headless:amd64 (8u342-b07-0ubuntu1~18.04) ...\n",
            "Setting up openjdk-8-jre-headless:amd64 (8u342-b07-0ubuntu1~18.04) ...\n",
            "update-alternatives: using /usr/lib/jvm/java-8-openjdk-amd64/jre/bin/orbd to provide /usr/bin/orbd (orbd) in auto mode\n",
            "update-alternatives: using /usr/lib/jvm/java-8-openjdk-amd64/jre/bin/servertool to provide /usr/bin/servertool (servertool) in auto mode\n",
            "update-alternatives: using /usr/lib/jvm/java-8-openjdk-amd64/jre/bin/tnameserv to provide /usr/bin/tnameserv (tnameserv) in auto mode\n",
            "Setting up openjdk-8-jdk-headless:amd64 (8u342-b07-0ubuntu1~18.04) ...\n",
            "update-alternatives: using /usr/lib/jvm/java-8-openjdk-amd64/bin/idlj to provide /usr/bin/idlj (idlj) in auto mode\n",
            "update-alternatives: using /usr/lib/jvm/java-8-openjdk-amd64/bin/wsimport to provide /usr/bin/wsimport (wsimport) in auto mode\n",
            "update-alternatives: using /usr/lib/jvm/java-8-openjdk-amd64/bin/jsadebugd to provide /usr/bin/jsadebugd (jsadebugd) in auto mode\n",
            "update-alternatives: using /usr/lib/jvm/java-8-openjdk-amd64/bin/native2ascii to provide /usr/bin/native2ascii (native2ascii) in auto mode\n",
            "update-alternatives: using /usr/lib/jvm/java-8-openjdk-amd64/bin/javah to provide /usr/bin/javah (javah) in auto mode\n",
            "update-alternatives: using /usr/lib/jvm/java-8-openjdk-amd64/bin/clhsdb to provide /usr/bin/clhsdb (clhsdb) in auto mode\n",
            "update-alternatives: using /usr/lib/jvm/java-8-openjdk-amd64/bin/xjc to provide /usr/bin/xjc (xjc) in auto mode\n",
            "update-alternatives: using /usr/lib/jvm/java-8-openjdk-amd64/bin/hsdb to provide /usr/bin/hsdb (hsdb) in auto mode\n",
            "update-alternatives: using /usr/lib/jvm/java-8-openjdk-amd64/bin/schemagen to provide /usr/bin/schemagen (schemagen) in auto mode\n",
            "update-alternatives: using /usr/lib/jvm/java-8-openjdk-amd64/bin/extcheck to provide /usr/bin/extcheck (extcheck) in auto mode\n",
            "update-alternatives: using /usr/lib/jvm/java-8-openjdk-amd64/bin/jhat to provide /usr/bin/jhat (jhat) in auto mode\n",
            "update-alternatives: using /usr/lib/jvm/java-8-openjdk-amd64/bin/wsgen to provide /usr/bin/wsgen (wsgen) in auto mode\n"
          ]
        }
      ]
    },
    {
      "cell_type": "markdown",
      "metadata": {
        "id": "-CJ71AKe91eh"
      },
      "source": [
        "Now we authenticate a Google Drive client to download the file we will be processing in our Spark job.\n",
        "\n",
        "**Make sure to follow the interactive instructions.**"
      ]
    },
    {
      "cell_type": "code",
      "metadata": {
        "id": "xu-e7Ph2_ruG",
        "colab": {
          "base_uri": "https://localhost:8080/"
        },
        "outputId": "38e64f7a-0248-4be2-e1d1-8aa89f1193ba"
      },
      "source": [
        "from pyspark.sql import *\n",
        "from pyspark.sql.functions import *\n",
        "from pyspark import SparkContext\n",
        "import pandas as pd\n",
        "from pyspark import SparkContext\n",
        "from pyspark.sql import SQLContext\n",
        "from pyspark.sql.functions import *\n",
        "\n",
        "# create the Spark Session\n",
        "spark = SparkSession.builder.getOrCreate()\n",
        "\n",
        "# create the Spark Context\n",
        "sc = spark.sparkContext\n",
        "\n",
        "sql = SQLContext(sc)"
      ],
      "execution_count": null,
      "outputs": [
        {
          "output_type": "stream",
          "name": "stderr",
          "text": [
            "/usr/local/lib/python3.7/dist-packages/pyspark/sql/context.py:114: FutureWarning: Deprecated in 3.0.0. Use SparkSession.builder.getOrCreate() instead.\n",
            "  FutureWarning,\n"
          ]
        }
      ]
    },
    {
      "cell_type": "code",
      "source": [],
      "metadata": {
        "id": "owGLUjZ-MPUM"
      },
      "execution_count": null,
      "outputs": []
    },
    {
      "cell_type": "code",
      "source": [
        "data = ['A B C', 'B C D', 'C D', 'D A']\n",
        "links = spark.sparkContext.parallelize(data)"
      ],
      "metadata": {
        "id": "moz_G1FBMPXA"
      },
      "execution_count": null,
      "outputs": []
    },
    {
      "cell_type": "code",
      "source": [
        "# Key/value pairs\n",
        "links = links.map(lambda x: (x.split(' ')[0], x.split(' ')[1:]))\n",
        "print(links.collect())\n",
        " \n",
        "# Find node count\n",
        "N = links.count()\n",
        "print(N)\n",
        "\n",
        "# Create and initialize the ranks\n",
        "ranks = links.map(lambda node: (node[0],1.0/N))\n",
        "print(ranks.collect())"
      ],
      "metadata": {
        "colab": {
          "base_uri": "https://localhost:8080/"
        },
        "id": "1r5TTGfPMPZg",
        "outputId": "d3531f19-6cdc-4561-ee15-9372c12b3385"
      },
      "execution_count": null,
      "outputs": [
        {
          "output_type": "stream",
          "name": "stdout",
          "text": [
            "[('A', ['B', 'C']), ('B', ['C', 'D']), ('C', ['D']), ('D', ['A'])]\n",
            "4\n",
            "[('A', 0.25), ('B', 0.25), ('C', 0.25), ('D', 0.25)]\n"
          ]
        }
      ]
    },
    {
      "cell_type": "code",
      "source": [],
      "metadata": {
        "id": "2WMJ-B78MqRI"
      },
      "execution_count": null,
      "outputs": []
    },
    {
      "cell_type": "code",
      "source": [
        "ITERATIONS=20\n",
        "for i in range(ITERATIONS):\n",
        "    # Join graph info with rank info and propogate to all neighbors rank scores (rank/(number of neighbors)\n",
        "    # And add up ranks from all in-coming edges\n",
        "    ranks = links.join(ranks).flatMap(lambda x : [(i, float(x[1][1])*0.8/len(x[1][0])) for i in x[1][0]])\\qq\n",
        "    .reduceByKey(lambda x,y: x+y)\n",
        "    print(ranks.sortByKey().collect())\n",
        "\n"
      ],
      "metadata": {
        "colab": {
          "base_uri": "https://localhost:8080/"
        },
        "id": "od3qrk15MqUN",
        "outputId": "604148e2-4208-407f-cdfc-94826a032728"
      },
      "execution_count": null,
      "outputs": [
        {
          "output_type": "stream",
          "name": "stdout",
          "text": [
            "[('A', 0.25), ('B', 0.125), ('C', 0.25), ('D', 0.375)]\n",
            "[('A', 0.375), ('B', 0.125), ('C', 0.1875), ('D', 0.3125)]\n",
            "[('A', 0.3125), ('B', 0.1875), ('C', 0.25), ('D', 0.25)]\n",
            "[('A', 0.25), ('B', 0.15625), ('C', 0.25), ('D', 0.34375)]\n",
            "[('A', 0.34375), ('B', 0.125), ('C', 0.203125), ('D', 0.328125)]\n",
            "[('A', 0.328125), ('B', 0.171875), ('C', 0.234375), ('D', 0.265625)]\n",
            "[('A', 0.265625), ('B', 0.1640625), ('C', 0.25), ('D', 0.3203125)]\n",
            "[('A', 0.3203125), ('B', 0.1328125), ('C', 0.21484375), ('D', 0.33203125)]\n",
            "[('A', 0.33203125), ('B', 0.16015625), ('C', 0.2265625), ('D', 0.28125)]\n",
            "[('A', 0.28125), ('B', 0.166015625), ('C', 0.24609375), ('D', 0.306640625)]\n",
            "[('A', 0.306640625), ('B', 0.140625), ('C', 0.2236328125), ('D', 0.3291015625)]\n",
            "[('A', 0.3291015625), ('B', 0.1533203125), ('C', 0.2236328125), ('D', 0.2939453125)]\n",
            "[('A', 0.2939453125), ('B', 0.16455078125), ('C', 0.2412109375), ('D', 0.30029296875)]\n",
            "[('A', 0.30029296875), ('B', 0.14697265625), ('C', 0.229248046875), ('D', 0.323486328125)]\n",
            "[('A', 0.323486328125), ('B', 0.150146484375), ('C', 0.2236328125), ('D', 0.302734375)]\n",
            "[('A', 0.302734375), ('B', 0.1617431640625), ('C', 0.23681640625), ('D', 0.2987060546875)]\n",
            "[('A', 0.2987060546875), ('B', 0.1513671875), ('C', 0.23223876953125), ('D', 0.31768798828125)]\n",
            "[('A', 0.31768798828125), ('B', 0.14935302734375), ('C', 0.22503662109375), ('D', 0.30792236328125)]\n",
            "[('A', 0.30792236328125), ('B', 0.158843994140625), ('C', 0.2335205078125), ('D', 0.299713134765625)]\n",
            "[('A', 0.299713134765625), ('B', 0.153961181640625), ('C', 0.2333831787109375), ('D', 0.3129425048828125)]\n"
          ]
        }
      ]
    },
    {
      "cell_type": "code",
      "source": [],
      "metadata": {
        "id": "OfzFF3T5MqWb"
      },
      "execution_count": null,
      "outputs": []
    },
    {
      "cell_type": "code",
      "source": [
        "df1 = sql.createDataFrame([('20BJR',1,2), ('20BJR',2,8),('20BJR',3,11),\\\n",
        "                           ('34AB',3,20),('34AB',4,23),('34AB',5,28),\\\n",
        "                          ('08CC',1,100),('08CC',3,104),('08CC',4,115)],\\\n",
        "                           ['plaka','kamera','süre'])\n"
      ],
      "metadata": {
        "id": "8ZmdIzMskQWt"
      },
      "execution_count": null,
      "outputs": []
    },
    {
      "cell_type": "code",
      "source": [
        "df1.show()"
      ],
      "metadata": {
        "colab": {
          "base_uri": "https://localhost:8080/"
        },
        "id": "SOXezFfMowAv",
        "outputId": "f768495b-72ec-461c-e857-3fb1d6908f16"
      },
      "execution_count": null,
      "outputs": [
        {
          "output_type": "stream",
          "name": "stdout",
          "text": [
            "+-----+------+----+\n",
            "|plaka|kamera|süre|\n",
            "+-----+------+----+\n",
            "|20BJR|     1|   2|\n",
            "|20BJR|     2|   8|\n",
            "|20BJR|     3|  11|\n",
            "| 34AB|     3|  20|\n",
            "| 34AB|     4|  23|\n",
            "| 34AB|     5|  28|\n",
            "| 08CC|     1| 100|\n",
            "| 08CC|     3| 104|\n",
            "| 08CC|     4| 115|\n",
            "+-----+------+----+\n",
            "\n"
          ]
        }
      ]
    },
    {
      "cell_type": "code",
      "source": [
        "\n",
        "df2 = sql.createDataFrame([(1,2, 5 ), (2,3, 5 ), (1,3,10 ), (3,4, 10 ), (4,5,10 )],[ 'kamera1', 'kamera2','limit'])"
      ],
      "metadata": {
        "id": "YWjiKDLwkQZ_"
      },
      "execution_count": null,
      "outputs": []
    },
    {
      "cell_type": "code",
      "source": [
        "df2.show()"
      ],
      "metadata": {
        "colab": {
          "base_uri": "https://localhost:8080/"
        },
        "id": "feTQA2cFkQc2",
        "outputId": "03ffb034-0cbb-4da4-becb-b433dabfcce7"
      },
      "execution_count": null,
      "outputs": [
        {
          "output_type": "stream",
          "name": "stdout",
          "text": [
            "+-------+-------+-----+\n",
            "|kamera1|kamera2|limit|\n",
            "+-------+-------+-----+\n",
            "|      1|      2|    5|\n",
            "|      2|      3|    5|\n",
            "|      1|      3|   10|\n",
            "|      3|      4|   10|\n",
            "|      4|      5|   10|\n",
            "+-------+-------+-----+\n",
            "\n"
          ]
        }
      ]
    },
    {
      "cell_type": "code",
      "source": [
        "joined = df1.alias(\"a\").join(df1.alias(\"b\"), \\\n",
        "    [col(\"a.plaka\") == col(\"b.plaka\"),  col(\"a.kamera\") != col(\"b.kamera\")] ,\"inner\") \\\n",
        "    .select(col(\"a.plaka\"),col(\"a.kamera\").alias(\"kameraA\"), \\\n",
        "      col(\"a.süre\").alias(\"süreA\"),  col(\"b.kamera\").alias(\"kameraB\"), \\\n",
        "      col(\"b.süre\").alias(\"süreB\")) "
      ],
      "metadata": {
        "id": "HLz1roFxJPl8"
      },
      "execution_count": null,
      "outputs": []
    },
    {
      "cell_type": "code",
      "source": [
        "joined.show()"
      ],
      "metadata": {
        "colab": {
          "base_uri": "https://localhost:8080/"
        },
        "id": "rSxwk-YOLEfB",
        "outputId": "d7f4ffea-83d9-4f14-fb56-4d03a744c0c5"
      },
      "execution_count": null,
      "outputs": [
        {
          "output_type": "stream",
          "name": "stdout",
          "text": [
            "+-----+-------+-----+-------+-----+\n",
            "|plaka|kameraA|süreA|kameraB|süreB|\n",
            "+-----+-------+-----+-------+-----+\n",
            "| 08CC|      1|  100|      3|  104|\n",
            "| 08CC|      1|  100|      4|  115|\n",
            "| 08CC|      3|  104|      1|  100|\n",
            "| 08CC|      3|  104|      4|  115|\n",
            "| 08CC|      4|  115|      1|  100|\n",
            "| 08CC|      4|  115|      3|  104|\n",
            "|20BJR|      1|    2|      2|    8|\n",
            "|20BJR|      1|    2|      3|   11|\n",
            "|20BJR|      2|    8|      1|    2|\n",
            "|20BJR|      2|    8|      3|   11|\n",
            "|20BJR|      3|   11|      1|    2|\n",
            "|20BJR|      3|   11|      2|    8|\n",
            "| 34AB|      3|   20|      4|   23|\n",
            "| 34AB|      3|   20|      5|   28|\n",
            "| 34AB|      4|   23|      3|   20|\n",
            "| 34AB|      4|   23|      5|   28|\n",
            "| 34AB|      5|   28|      3|   20|\n",
            "| 34AB|      5|   28|      4|   23|\n",
            "+-----+-------+-----+-------+-----+\n",
            "\n"
          ]
        }
      ]
    },
    {
      "cell_type": "code",
      "source": [
        "last = joined.join(df2 , (joined.kameraA == df2.kamera1 ) & (joined.kameraB == df2.kamera2 )  , 'right' )"
      ],
      "metadata": {
        "id": "BUexfB6mkQpL"
      },
      "execution_count": null,
      "outputs": []
    },
    {
      "cell_type": "code",
      "source": [
        "last.show()"
      ],
      "metadata": {
        "colab": {
          "base_uri": "https://localhost:8080/"
        },
        "id": "5qdlaLzyu7kx",
        "outputId": "6e65fe6d-3c45-48f7-a94a-5bdf7e7131a8"
      },
      "execution_count": null,
      "outputs": [
        {
          "output_type": "stream",
          "name": "stdout",
          "text": [
            "+-----+-------+-----+-------+-----+-------+-------+-----+\n",
            "|plaka|kameraA|süreA|kameraB|süreB|kamera1|kamera2|limit|\n",
            "+-----+-------+-----+-------+-----+-------+-------+-----+\n",
            "|20BJR|      2|    8|      3|   11|      2|      3|    5|\n",
            "|20BJR|      1|    2|      2|    8|      1|      2|    5|\n",
            "|20BJR|      1|    2|      3|   11|      1|      3|   10|\n",
            "| 08CC|      1|  100|      3|  104|      1|      3|   10|\n",
            "| 34AB|      3|   20|      4|   23|      3|      4|   10|\n",
            "| 08CC|      3|  104|      4|  115|      3|      4|   10|\n",
            "| 34AB|      4|   23|      5|   28|      4|      5|   10|\n",
            "+-----+-------+-----+-------+-----+-------+-------+-----+\n",
            "\n"
          ]
        }
      ]
    },
    {
      "cell_type": "code",
      "source": [
        "last.filter(last['süreB'] - last['süreA'] > last['limit'] ).select('plaka').show()"
      ],
      "metadata": {
        "colab": {
          "base_uri": "https://localhost:8080/"
        },
        "id": "0RSxI4ORu7na",
        "outputId": "39cc5da8-ad26-40a7-f1aa-2583ffb1cf7b"
      },
      "execution_count": null,
      "outputs": [
        {
          "output_type": "stream",
          "name": "stdout",
          "text": [
            "+-----+\n",
            "|plaka|\n",
            "+-----+\n",
            "|20BJR|\n",
            "| 08CC|\n",
            "+-----+\n",
            "\n"
          ]
        }
      ]
    },
    {
      "cell_type": "code",
      "source": [
        "last.printSchema()"
      ],
      "metadata": {
        "colab": {
          "base_uri": "https://localhost:8080/"
        },
        "id": "3FkwEhxqu7p8",
        "outputId": "10b2c266-dd93-4d2e-cd99-adf6fefe29df"
      },
      "execution_count": null,
      "outputs": [
        {
          "output_type": "stream",
          "name": "stdout",
          "text": [
            "root\n",
            " |-- plaka: string (nullable = true)\n",
            " |-- kamera: long (nullable = true)\n",
            " |-- süre: long (nullable = true)\n",
            " |-- kamera2: long (nullable = true)\n",
            " |-- süre2: long (nullable = true)\n",
            " |-- kamera1: long (nullable = true)\n",
            " |-- kamera2: long (nullable = true)\n",
            " |-- limit: long (nullable = true)\n",
            "\n"
          ]
        }
      ]
    },
    {
      "cell_type": "code",
      "source": [],
      "metadata": {
        "id": "3TICOAo6u7s0"
      },
      "execution_count": null,
      "outputs": []
    },
    {
      "cell_type": "code",
      "source": [],
      "metadata": {
        "id": "01dS5hqou7vP"
      },
      "execution_count": null,
      "outputs": []
    },
    {
      "cell_type": "markdown",
      "source": [
        "#### Read File ( 10 points )"
      ],
      "metadata": {
        "id": "Bmh_ePXOrtjm"
      }
    },
    {
      "cell_type": "code",
      "metadata": {
        "id": "AuAxGFPFB43Y"
      },
      "source": [
        "# Fill this part\n",
        "txt =  sc.textFile(\"pg100.txt\")"
      ],
      "execution_count": null,
      "outputs": []
    },
    {
      "cell_type": "code",
      "source": [
        "txt"
      ],
      "metadata": {
        "id": "maT_kU3itp_f"
      },
      "execution_count": null,
      "outputs": []
    },
    {
      "cell_type": "markdown",
      "source": [
        "#### FlatMap ( 20 points )"
      ],
      "metadata": {
        "id": "uc_iOktBr0di"
      }
    },
    {
      "cell_type": "code",
      "metadata": {
        "id": "A-SSxDs9FdJa"
      },
      "source": [
        "# Fill this part\n",
        "flatmapped_datacontext = txt.flatMap(lambda line: line.split(\" \")) "
      ],
      "execution_count": null,
      "outputs": []
    },
    {
      "cell_type": "code",
      "source": [
        "flatmapped_datacontext"
      ],
      "metadata": {
        "id": "jasnlWrrtsr7"
      },
      "execution_count": null,
      "outputs": []
    },
    {
      "cell_type": "markdown",
      "source": [
        "#### Map ( 20 points )"
      ],
      "metadata": {
        "id": "ZbdM65pdsJwW"
      }
    },
    {
      "cell_type": "code",
      "metadata": {
        "id": "7jDCs412ZZcF"
      },
      "source": [
        "# Fill this part\n",
        "mapped_datacontext = flatmapped_datacontext.map(lambda word: (word, 1))"
      ],
      "execution_count": null,
      "outputs": []
    },
    {
      "cell_type": "code",
      "source": [
        "mapped_datacontext"
      ],
      "metadata": {
        "id": "N3W83OQRtuUp"
      },
      "execution_count": null,
      "outputs": []
    },
    {
      "cell_type": "markdown",
      "source": [
        "#### Reduce ( 20 points )"
      ],
      "metadata": {
        "id": "Qlg8SXtfs2vl"
      }
    },
    {
      "cell_type": "code",
      "source": [
        "# Fill this part\n",
        "counts = mapped_datacontext.reduceByKey(lambda a, b: a + b)"
      ],
      "metadata": {
        "id": "q1LHl74LshWE"
      },
      "execution_count": null,
      "outputs": []
    },
    {
      "cell_type": "code",
      "source": [
        "counts.take(10)"
      ],
      "metadata": {
        "id": "H-w6Skt7x-fq"
      },
      "execution_count": null,
      "outputs": []
    },
    {
      "cell_type": "markdown",
      "source": [
        "#### Take() first 10 key-values sorted by descending. (10 points)"
      ],
      "metadata": {
        "id": "A2_WhubsyenR"
      }
    },
    {
      "cell_type": "code",
      "source": [
        "# Fill this part\n",
        "first_10 = counts.map(lambda a : (a[1],a[0])).sortByKey(False).take(10)"
      ],
      "metadata": {
        "id": "GpN01OxTtvn5"
      },
      "execution_count": null,
      "outputs": []
    },
    {
      "cell_type": "markdown",
      "source": [
        "#### Number of Unique Words ( 10 points ) "
      ],
      "metadata": {
        "id": "92f-j27Rs153"
      }
    },
    {
      "cell_type": "code",
      "source": [
        "# Fill this part\n",
        "counts.count()"
      ],
      "metadata": {
        "id": "px6EnBLRtTn2"
      },
      "execution_count": null,
      "outputs": []
    },
    {
      "cell_type": "markdown",
      "source": [
        "### Upload Result\n"
      ],
      "metadata": {
        "id": "VzJJoHJtonER"
      }
    },
    {
      "cell_type": "markdown",
      "source": [
        "Please follow the intructions below before submit your colab. \n"
      ],
      "metadata": {
        "id": "-Lr3Xs8JpBJS"
      }
    },
    {
      "cell_type": "markdown",
      "source": [
        "\n",
        "Once you obtained the desired results, you are going to submit your colab via **UZAK** as a **.ipynb** file. Name your document as Colab1_studentid.ipynb (ex: \"HW1_1234567.ipynb\")."
      ],
      "metadata": {
        "id": "c3X-TkDp0IPP"
      }
    },
    {
      "cell_type": "markdown",
      "source": [
        "....."
      ],
      "metadata": {
        "id": "SSWZN5z70KAr"
      }
    },
    {
      "cell_type": "code",
      "source": [],
      "metadata": {
        "id": "VrzDxceS0KsA"
      },
      "execution_count": null,
      "outputs": []
    }
  ]
}